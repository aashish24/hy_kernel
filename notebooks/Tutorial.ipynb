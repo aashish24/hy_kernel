{
 "metadata": {
  "kernelspec": {
   "codemirror_mode": "hy",
   "display_name": "Hy",
   "language": "hy",
   "name": "hy"
  },
  "name": "",
  "signature": "sha256:12b01d1d91b93bf06cf4dfed871b0319ffcaf0fd36136daea1b2278640a74e55"
 },
 "nbformat": 3,
 "nbformat_minor": 0,
 "worksheets": [
  {
   "cells": [
    {
     "cell_type": "markdown",
     "metadata": {},
     "source": [
      "> _Copied from the [hy documentation](http://docs.hylang.org/en/latest/tutorial.html)._"
     ]
    },
    {
     "cell_type": "heading",
     "level": 1,
     "metadata": {},
     "source": [
      "Tutorial"
     ]
    },
    {
     "cell_type": "markdown",
     "metadata": {},
     "source": [
      "<img src=\"http://docs.hylang.org/en/latest/_images/hy-logo-small.png\" style=\"float:right\"/>\n",
      "\n",
      "Welcome to the Hy tutorial!\n",
      "\n",
      "In a nutshell, Hy is a lisp dialect, but one that converts its structure into Python... literally a conversion into Python\u2019s abstract syntax tree! (Or to put it in more crude terms, Hy is lisp-stick on a python!)\n",
      "\n",
      "This is pretty cool because it means Hy is several things:\n",
      "- A lisp that feels very pythonic\n",
      "- For lispers, a great way to use lisp\u2019s crazy powers but in the wide world of Python\u2019s libraries (why yes, you now can write a Django application in lisp!)\n",
      "- For pythonistas, a great way to start exploring lisp, from the comfort of python!\n",
      "- For everyone: a pleasant language that has a lot of neat ideas!"
     ]
    },
    {
     "cell_type": "heading",
     "level": 2,
     "metadata": {},
     "source": [
      "Basic intro to lisp for pythonistas"
     ]
    },
    {
     "cell_type": "markdown",
     "metadata": {},
     "source": [
      "Okay, maybe you\u2019ve never used lisp before, but you\u2019ve used python!\n",
      "\n",
      "A \u201chello world\u201d in hy is actually super simple. Let\u2019s try it:"
     ]
    },
    {
     "cell_type": "code",
     "collapsed": false,
     "input": [
      "(print \"hello world\")"
     ],
     "language": "python",
     "metadata": {},
     "outputs": [
      {
       "output_type": "stream",
       "stream": "stdout",
       "text": [
        "hello world\n"
       ]
      }
     ],
     "prompt_number": 1
    },
    {
     "cell_type": "markdown",
     "metadata": {},
     "source": [
      "See? Easy! As you may have guessed, this is the same as the python version of:\n",
      "```python\n",
      "print \"hello world\"\n",
      "```"
     ]
    },
    {
     "cell_type": "markdown",
     "metadata": {},
     "source": [
      "To add up some super simple math, we could do:"
     ]
    },
    {
     "cell_type": "code",
     "collapsed": false,
     "input": [
      "(+ 1 3)"
     ],
     "language": "python",
     "metadata": {},
     "outputs": [
      {
       "metadata": {},
       "output_type": "pyout",
       "prompt_number": 2,
       "text": [
        "4L"
       ]
      }
     ],
     "prompt_number": 2
    },
    {
     "cell_type": "markdown",
     "metadata": {},
     "source": [
      "Which would return 4 and would be the equivalent of:\n",
      "```python\n",
      "1 + 3\n",
      "```"
     ]
    },
    {
     "cell_type": "markdown",
     "metadata": {},
     "source": [
      "What you\u2019ll notice is that the first item in the list is the function being called and the rest of the arguments are the arguments being passed in. In fact, in hy (as with most lisps) we can pass in multiple arguments to the plus operator:"
     ]
    },
    {
     "cell_type": "code",
     "collapsed": false,
     "input": [
      "(+ 1 3 55)"
     ],
     "language": "python",
     "metadata": {},
     "outputs": [
      {
       "metadata": {},
       "output_type": "pyout",
       "prompt_number": 3,
       "text": [
        "59L"
       ]
      }
     ],
     "prompt_number": 3
    },
    {
     "cell_type": "markdown",
     "metadata": {},
     "source": [
      "Which would return 59.\n",
      "\n",
      "Maybe you\u2019ve heard of lisp before but don\u2019t know much about it. Lisp isn\u2019t as hard as you might think, and hy inherits from python, so hy is a great way to start learning lisp. The main thing that\u2019s obvious about lisp is that there\u2019s a lot of parentheses. This might seem confusing at first, but it isn\u2019t so hard. Let\u2019s look at some simple math that\u2019s wrapped in a bunch of parentheses that we could enter into the hy interpreter:"
     ]
    },
    {
     "cell_type": "code",
     "collapsed": true,
     "input": [
      "(setv result (- (/ (+ 1 3 88) 2) 8))"
     ],
     "language": "python",
     "metadata": {},
     "outputs": [],
     "prompt_number": 4
    },
    {
     "cell_type": "markdown",
     "metadata": {},
     "source": [
      "This would return 38. But why? Well, we could look at the equivalent expression in python:\n",
      "```python\n",
      "result = ((1 + 3 + 88) / 2) - 8\n",
      "```"
     ]
    },
    {
     "cell_type": "markdown",
     "metadata": {},
     "source": [
      "If you were to try to figure out how the above were to work in python, you\u2019d of course figure out the results by solving each inner parenthesis. That\u2019s the same basic idea in hy. Let\u2019s try this exercise first in python:\n",
      "```python\n",
      "result = ((1 + 3 + 88) / 2) - 8\n",
      "# simplified to...\n",
      "result = (92 / 2) - 8\n",
      "# simplified to...\n",
      "result = 46 - 8\n",
      "# simplified to...\n",
      "result = 38\n",
      "```"
     ]
    },
    {
     "cell_type": "markdown",
     "metadata": {},
     "source": [
      "Now let\u2019s try the same thing in hy:"
     ]
    },
    {
     "cell_type": "code",
     "collapsed": true,
     "input": [
      "(setv result (- (/ (+ 1 3 88) 2) 8))\n",
      "; simplified to...\n",
      "(setv result (- (/ 92 2) 8))\n",
      "; simplified to...\n",
      "(setv result (- 46 8))\n",
      "; simplified to...\n",
      "(setv result 38)"
     ],
     "language": "python",
     "metadata": {},
     "outputs": [],
     "prompt_number": 5
    },
    {
     "cell_type": "markdown",
     "metadata": {},
     "source": [
      "As you probably guessed, this last expression with \u201csetv\u201d means to assign the variable \u201cresult\u201d to 38.\n",
      "\n",
      "See? Not too hard!\n",
      "\n",
      "This is the basic premise of lisp... lisp stands for \u201clist processing\u201d... this means that the structure of the program is actually lists of lists. (If you\u2019re familiar with python lists, imagine the entire same structure as above but with square brackets instead, any you\u2019ll be able to see the structure above as both a program and a datastructure.) This is easier to understand with more examples, so let\u2019s write a simple python program and test it and then show the equivalent hy program:\n",
      "```python\n",
      "def simple_conversation():\n",
      "    print \"Hello!  I'd like to get to know you.  Tell me about yourself!\"\n",
      "    name = raw_input(\"What is your name? \")\n",
      "    age = raw_input(\"What is your age? \")\n",
      "    print \"Hello \" + name + \"!  I see you are \" + age + \" years old.\"\n",
      "\n",
      "simple_conversation()\n",
      "```\n",
      "\n",
      "If we ran this program, it might go like:\n",
      "\n",
      "```\n",
      "Hello!  I'd like to get to know you.  Tell me about yourself!\n",
      "What is your name? Gary\n",
      "What is your age? 38\n",
      "Hello Gary!  I see you are 38 years old.\n",
      "```\n",
      "\n",
      "Now let\u2019s look at the equivalent hy program:"
     ]
    },
    {
     "cell_type": "code",
     "collapsed": false,
     "input": [
      "(defn simple-conversation []\n",
      "   (print \"Hello!  I'd like to get to know you.  Tell me about yourself!\")\n",
      "   (setv name (raw_input \"What is your name? \"))\n",
      "   (setv age (raw_input \"What is your age? \"))\n",
      "   (print (+ \"Hello \" name \"!  I see you are \"\n",
      "              age \" years old.\")))\n",
      "\n",
      "(simple-conversation)"
     ],
     "language": "python",
     "metadata": {},
     "outputs": [
      {
       "output_type": "stream",
       "stream": "stdout",
       "text": [
        "Hello!  I'd like to get to know you.  Tell me about yourself!\n",
        "What is your name? Gary\n",
        "What is your age? 38\n",
        "Hello Gary!  I see you are 38 years old.\n"
       ]
      }
     ],
     "prompt_number": 6
    },
    {
     "cell_type": "markdown",
     "metadata": {},
     "source": [
      "If you look at the above program, as long as you remember that the first element in each list of the program is the function (or macro... we\u2019ll get to those later) being called and that the rest are the arguments, it\u2019s pretty easy to figure out what this all means. (As you probably also guessed, defn is the hy method of defining methods.)\n",
      "\n",
      "Still, lots of people find this confusing at first because there\u2019s so many parentheses, but there are plenty of things that can help make this easier: keep indentation nice and use an editor with parenthesis matching (this will help you figure out what each parenthesis pairs up with) and things will start to feel comfortable.\n",
      "\n",
      "There are some advantages to having a code structure that\u2019s actually a very simple datastructure as the core of lisp is based on. For one thing, it means that your programs are easy to parse and that the entire actual structure of the program is very clearly exposed to you. (There\u2019s an extra step in hy where the structure you see is converted to python\u2019s own representations... in more \u201cpure\u201d lisps such as common lisp or emacs lisp, the data structure you see for the code and the data structure that is executed is much more literally close.)\n",
      "\n",
      "Another implication of this is macros: if a program\u2019s structure is a simple data structure, that means you can write code that can write code very easily, meaning that implementing entirely new language features can be very fast. Previous to hy, this wasn\u2019t very possible for python programmers... now you too can make use of macros\u2019 incredible power (just be careful to not aim them footward)!"
     ]
    },
    {
     "cell_type": "heading",
     "level": 2,
     "metadata": {},
     "source": [
      "Hy is a Lisp flavored Python"
     ]
    },
    {
     "cell_type": "markdown",
     "metadata": {},
     "source": [
      "Hy converts to Python\u2019s own abstract syntax tree, so you\u2019ll soon start to find that all the familiar power of python is at your fingertips.\n",
      "\n",
      "You have full access to Python\u2019s data types and standard library in Hy. Let\u2019s experiment with this in the hy interpreter:"
     ]
    },
    {
     "cell_type": "code",
     "collapsed": false,
     "input": [
      "[1 2 3]"
     ],
     "language": "python",
     "metadata": {},
     "outputs": [
      {
       "metadata": {},
       "output_type": "pyout",
       "prompt_number": 7,
       "text": [
        "[1L, 2L, 3L]"
       ]
      }
     ],
     "prompt_number": 7
    },
    {
     "cell_type": "code",
     "collapsed": false,
     "input": [
      "{\"dog\" \"bark\"\n",
      " \"cat\" \"meow\"}"
     ],
     "language": "python",
     "metadata": {},
     "outputs": [
      {
       "metadata": {},
       "output_type": "pyout",
       "prompt_number": 8,
       "text": [
        "{u'cat': u'meow', u'dog': u'bark'}"
       ]
      }
     ],
     "prompt_number": 8
    },
    {
     "cell_type": "code",
     "collapsed": false,
     "input": [
      "(, 1 2 3)"
     ],
     "language": "python",
     "metadata": {},
     "outputs": [
      {
       "metadata": {},
       "output_type": "pyout",
       "prompt_number": 9,
       "text": [
        "(1L, 2L, 3L)"
       ]
      }
     ],
     "prompt_number": 9
    },
    {
     "cell_type": "markdown",
     "metadata": {},
     "source": [
      "If you are familiar with other lisps, you may be interested that Hy supports the Common Lisp method of quoting:"
     ]
    },
    {
     "cell_type": "code",
     "collapsed": false,
     "input": [
      "'(1 2 3)"
     ],
     "language": "python",
     "metadata": {},
     "outputs": [
      {
       "metadata": {},
       "output_type": "pyout",
       "prompt_number": 10,
       "text": [
        "(1L 2L 3L)"
       ]
      }
     ],
     "prompt_number": 10
    },
    {
     "cell_type": "markdown",
     "metadata": {},
     "source": [
      "You also have access to all the builtin types\u2019 nice methods:"
     ]
    },
    {
     "cell_type": "code",
     "collapsed": false,
     "input": [
      "(.strip \" fooooo   \")"
     ],
     "language": "python",
     "metadata": {},
     "outputs": [
      {
       "metadata": {},
       "output_type": "pyout",
       "prompt_number": 11,
       "text": [
        "u'fooooo'"
       ]
      }
     ],
     "prompt_number": 11
    },
    {
     "cell_type": "markdown",
     "metadata": {},
     "source": [
      "What\u2019s this? Yes indeed, this is precisely the same as:\n",
      "\n",
      "```python\n",
      "\" fooooo   \".strip()\n",
      "```\n",
      "\n",
      "That\u2019s right... lisp with dot notation! If we have this string assigned as a variable, we can also do the following:"
     ]
    },
    {
     "cell_type": "code",
     "collapsed": false,
     "input": [
      "(setv this-string \" fooooo   \")\n",
      "(this-string.strip)"
     ],
     "language": "python",
     "metadata": {},
     "outputs": [
      {
       "metadata": {},
       "output_type": "pyout",
       "prompt_number": 12,
       "text": [
        "u'fooooo'"
       ]
      }
     ],
     "prompt_number": 12
    },
    {
     "cell_type": "markdown",
     "metadata": {},
     "source": [
      "What about conditionals?:"
     ]
    },
    {
     "cell_type": "code",
     "collapsed": false,
     "input": [
      "(if (try-some-thing)\n",
      "  (print \"this is if true\")\n",
      "  (print \"this is if false\"))"
     ],
     "language": "python",
     "metadata": {},
     "outputs": [
      {
       "ename": "NameError",
       "evalue": "name 'try_some_thing' is not defined",
       "output_type": "pyerr",
       "traceback": [
        "\u001b[1;31m---------------------------------------------------------------------------\u001b[0m",
        "\u001b[1;31mNameError\u001b[0m                                 Traceback (most recent call last)",
        "\u001b[1;32m<ipython-input-13-4e4edba5daf1>\u001b[0m in \u001b[0;36m<module>\u001b[1;34m()\u001b[0m\n\u001b[1;32m----> 1\u001b[1;33m (if (try-some-thing)\n\u001b[0m\u001b[0;32m      2\u001b[0m   \u001b[1;33m(\u001b[0m\u001b[1;32mprint\u001b[0m \u001b[1;34m\"this is if true\"\u001b[0m\u001b[1;33m)\u001b[0m\u001b[1;33m\u001b[0m\u001b[0m\n\u001b[0;32m      3\u001b[0m   (print \"this is if false\"))\n",
        "\u001b[1;31mNameError\u001b[0m: name 'try_some_thing' is not defined"
       ]
      }
     ],
     "prompt_number": 13
    },
    {
     "cell_type": "markdown",
     "metadata": {},
     "source": [
      "As you can tell above, the first argument to if is a truth test, the second argument is a body if true, and the third argument (optional!) is if false (ie, \u201celse\u201d!).\n",
      "\n",
      "If you need to do more complex conditionals, you\u2019ll find that you don\u2019t have elif available in hy. Instead, you should use something called \u201ccond\u201d. In python, you might do something like:\n",
      "\n",
      "```python\n",
      "somevar = 33\n",
      "if somevar > 50:\n",
      "    print \"That variable is too big!\"\n",
      "elif somevar < 10:\n",
      "    print \"That variable is too small!\"\n",
      "else:\n",
      "    print \"That variable is jussssst right!\"\n",
      "```\n",
      "\n",
      "In hy, you would do:"
     ]
    },
    {
     "cell_type": "code",
     "collapsed": false,
     "input": [
      "(setv somevar 33)\n",
      "(cond\n",
      " [(> somevar 50)\n",
      "  (print \"That variable is too big!\")]\n",
      " [(< somevar 10)\n",
      "  (print \"That variable is too small!\")]\n",
      " [true\n",
      "  (print \"That variable is jussssst right!\")])"
     ],
     "language": "python",
     "metadata": {},
     "outputs": []
    },
    {
     "cell_type": "markdown",
     "metadata": {},
     "source": [
      "What you\u2019ll notice is that cond switches off between a some statement that is executed and checked conditionally for true or falseness, and then a bit of code to execute if it turns out to be true. You\u2019ll also notice that the \u201celse\u201d is implemented at the end simply by checking for \u201ctrue\u201d... that\u2019s because true will always be true, so if we get this far, we\u2019ll always run that one!\n",
      "\n",
      "You might notice above that if you have code like:"
     ]
    },
    {
     "cell_type": "code",
     "collapsed": false,
     "input": [
      "(if some-condition\n",
      "  (body-if-true)\n",
      "  (body-if-false))"
     ],
     "language": "python",
     "metadata": {},
     "outputs": []
    },
    {
     "cell_type": "markdown",
     "metadata": {},
     "source": [
      "But wait! What if you want to execute more than one statement in the body of one of these?\n",
      "\n",
      "You can do the following:"
     ]
    },
    {
     "cell_type": "code",
     "collapsed": false,
     "input": [
      "(if (try-some-thing)\n",
      "  (do\n",
      "    (print \"this is if true\")\n",
      "    (print \"and why not, let's keep talking about how true it is!\"))\n",
      "  (print \"this one's still simply just false\"))"
     ],
     "language": "python",
     "metadata": {},
     "outputs": []
    },
    {
     "cell_type": "markdown",
     "metadata": {},
     "source": [
      "You can see that we used \u201cdo\u201d to wrap multiple statements. If you\u2019re familiar with other lisps, this is the equivalent of \u201cprogn\u201d elsewhere.\n",
      "\n",
      "Comments start with semicolons:"
     ]
    },
    {
     "cell_type": "code",
     "collapsed": false,
     "input": [
      "(print \"this will run\")\n",
      "; (print \"but this will not\")\n",
      "(+ 1 2 3)  ; we'll execute the addition, but not this comment!"
     ],
     "language": "python",
     "metadata": {},
     "outputs": []
    },
    {
     "cell_type": "markdown",
     "metadata": {},
     "source": [
      "Looping is not hard but has a kind of special structure. In python, we might do:\n",
      "\n",
      "```python\n",
      "for i in range(10):\n",
      "    print \"'i' is now at \" + str(i)\n",
      "```\n",
      "\n",
      "The equivalent in hy would be:"
     ]
    },
    {
     "cell_type": "code",
     "collapsed": false,
     "input": [
      "(for [i (range 10)]\n",
      "  (print (+ \"'i' is now at \" (str i))))"
     ],
     "language": "python",
     "metadata": {},
     "outputs": []
    },
    {
     "cell_type": "markdown",
     "metadata": {},
     "source": [
      "You can also import and make use of various python libraries. For example:"
     ]
    },
    {
     "cell_type": "code",
     "collapsed": false,
     "input": [
      "(import os)\n",
      "\n",
      "(if (os.path.isdir \"/tmp/somedir\")\n",
      "  (os.mkdir \"/tmp/somedir/anotherdir\")\n",
      "  (print \"Hey, that path isn't there!\"))"
     ],
     "language": "python",
     "metadata": {},
     "outputs": []
    },
    {
     "cell_type": "markdown",
     "metadata": {},
     "source": [
      "Python\u2019s context managers (\u2018with\u2019 statements) are used like this:"
     ]
    },
    {
     "cell_type": "code",
     "collapsed": false,
     "input": [
      "(with [[f (open \"/tmp/data.in\")]]\n",
      "  (print (.read f)))"
     ],
     "language": "python",
     "metadata": {},
     "outputs": []
    },
    {
     "cell_type": "markdown",
     "metadata": {},
     "source": [
      "which is equivalent to:\n",
      "\n",
      "```python\n",
      "with open(\"/tmp/data.in\") as f:\n",
      "    print f.read()\n",
      "```\n",
      "\n",
      "And yes, we do have lisp comprehensions! In Python you might do:\n",
      "\n",
      "```python\n",
      "odds_squared = [\n",
      "  pow(num, 2)\n",
      "  for num in range(100)\n",
      "  if num % 2 == 1]\n",
      "```\n",
      "\n",
      "In hy, you could do these like:"
     ]
    },
    {
     "cell_type": "code",
     "collapsed": false,
     "input": [
      "(setv odds-squared\n",
      "  (list-comp\n",
      "    (pow num 2)\n",
      "    (num (range 100))\n",
      "    (= (% num 2) 1)))\n",
      "\n",
      "; And, an example stolen shamelessly from a Clojure page:\n",
      "; Let's list all the blocks of a Chessboard:\n",
      "\n",
      "(list-comp\n",
      "  (, x y)\n",
      "  (x (range 8)\n",
      "   y \"ABCDEFGH\"))"
     ],
     "language": "python",
     "metadata": {},
     "outputs": []
    },
    {
     "cell_type": "markdown",
     "metadata": {},
     "source": [
      "Python has support for various fancy argument and keyword arguments. In python we might see:\n",
      "\n",
      "```python\n",
      ">>> def optional_arg(pos1, pos2, keyword1=None, keyword2=42):\n",
      "...   return [pos1, pos2, keyword1, keyword2]\n",
      "...\n",
      ">>> optional_arg(1, 2)\n",
      "[1, 2, None, 42]\n",
      ">>> optional_arg(1, 2, 3, 4)\n",
      "[1, 2, 3, 4]\n",
      ">>> optional_arg(keyword1=1, pos2=2, pos1=3, keyword2=4)\n",
      "[3, 2, 1, 4]\n",
      "```\n",
      "\n",
      "The same thing in Hy:"
     ]
    },
    {
     "cell_type": "code",
     "collapsed": true,
     "input": [
      "(defn optional_arg [pos1 pos2 &optional keyword1 [keyword2 42]]\n",
      "     [pos1 pos2 keyword1 keyword2])"
     ],
     "language": "python",
     "metadata": {},
     "outputs": []
    },
    {
     "cell_type": "code",
     "collapsed": false,
     "input": [
      "(optional_arg 1 2)"
     ],
     "language": "python",
     "metadata": {},
     "outputs": []
    },
    {
     "cell_type": "code",
     "collapsed": false,
     "input": [
      "(optional_arg 1 2 3 4)"
     ],
     "language": "python",
     "metadata": {},
     "outputs": []
    },
    {
     "cell_type": "code",
     "collapsed": false,
     "input": [
      "(apply optional_arg []\n",
      "    {\"keyword1\" 1\n",
      "     \"pos2\" 2\n",
      "     \"pos1\" 3\n",
      "     \"keyword2\" 4})"
     ],
     "language": "python",
     "metadata": {},
     "outputs": []
    },
    {
     "cell_type": "markdown",
     "metadata": {},
     "source": [
      "See how we use apply to handle the fancy passing? :)\n",
      "\n",
      "There\u2019s also a dictionary-style keyword arguments construction that looks like:"
     ]
    },
    {
     "cell_type": "code",
     "collapsed": true,
     "input": [
      "(defn another_style [&key {\"key1\" \"val1\" \"key2\" \"val2\"}]\n",
      "  [key1 key2])"
     ],
     "language": "python",
     "metadata": {},
     "outputs": []
    },
    {
     "cell_type": "markdown",
     "metadata": {},
     "source": [
      "The difference here is that since it\u2019s a dictionary, you can\u2019t rely on any specific ordering to the arguments.\n",
      "\n",
      "Hy also supports `*args` and `**kwargs`. In Python:\n",
      "\n",
      "```python\n",
      "def some_func(foo, bar, *args, **kwargs):\n",
      "  import pprint\n",
      "  pprint.pprint((foo, bar, args, kwargs))\n",
      "```"
     ]
    },
    {
     "cell_type": "markdown",
     "metadata": {},
     "source": [
      "The Hy equivalent:"
     ]
    },
    {
     "cell_type": "code",
     "collapsed": true,
     "input": [
      "(defn some_func [foo bar &rest args &kwargs kwargs]\n",
      "  (import pprint)\n",
      "  (pprint.pprint (, foo bar args kwargs)))"
     ],
     "language": "python",
     "metadata": {},
     "outputs": []
    },
    {
     "cell_type": "markdown",
     "metadata": {},
     "source": [
      "Finally, of course we need classes! In python we might have a class like:\n",
      "\n",
      "```python\n",
      "class FooBar(object):\n",
      "    \"\"\"\n",
      "    Yet Another Example Class\n",
      "    \"\"\"\n",
      "    def __init__(self, x):\n",
      "        self.x = x\n",
      "\n",
      "    def get_x(self):\n",
      "        \"\"\"\n",
      "        Return our copy of x\n",
      "        \"\"\"\n",
      "        return self.x\n",
      "```\n",
      "\n",
      "In Hy:"
     ]
    },
    {
     "cell_type": "code",
     "collapsed": true,
     "input": [
      "(defclass FooBar [object]\n",
      "  \"Yet Another Example Class\"\n",
      "  [[--init--\n",
      "    (fn [self x]\n",
      "      (setv self.x x)\n",
      "      ; Currently needed for --init-- because __init__ needs None\n",
      "      ; Hopefully this will go away :)\n",
      "      None)]\n",
      "\n",
      "   [get-x\n",
      "    (fn [self]\n",
      "      \"Return our copy of x\"\n",
      "      self.x)]])"
     ],
     "language": "python",
     "metadata": {},
     "outputs": []
    },
    {
     "cell_type": "markdown",
     "metadata": {},
     "source": [
      "You can also do class-level attributes. In Python:\n",
      "\n",
      "```python\n",
      "class Customer(models.Model):\n",
      "    name = models.CharField(max_length=255)\n",
      "    address = models.TextField()\n",
      "    notes = models.TextField()\n",
      "```\n",
      "\n",
      "In Hy:"
     ]
    },
    {
     "cell_type": "code",
     "collapsed": false,
     "input": [
      "(defclass Customer [models.Model]\n",
      "  [[name (apply models.CharField [] {\"max_length\" 255})]\n",
      "   [address (models.TextField)]\n",
      "   [notes (models.TextField)]])"
     ],
     "language": "python",
     "metadata": {},
     "outputs": []
    },
    {
     "cell_type": "heading",
     "level": 2,
     "metadata": {},
     "source": [
      "Protips!"
     ]
    },
    {
     "cell_type": "markdown",
     "metadata": {},
     "source": [
      "Hy also features something known as the \u201cthreading macro\u201d, a really neat feature of Clojure\u2019s. The \u201cthreading macro\u201d (written as \u201c->\u201d), is used to avoid deep nesting of expressions.\n",
      "\n",
      "The threading macro inserts each expression into the next expression\u2019s first argument place.\n",
      "\n",
      "Let\u2019s take the classic:"
     ]
    },
    {
     "cell_type": "code",
     "collapsed": false,
     "input": [
      "(loop (print (eval (read))))"
     ],
     "language": "python",
     "metadata": {},
     "outputs": []
    },
    {
     "cell_type": "markdown",
     "metadata": {},
     "source": [
      "Rather than write it like that, we can write it as follows:"
     ]
    },
    {
     "cell_type": "code",
     "collapsed": false,
     "input": [
      "(-> (read) (eval) (print) (loop))"
     ],
     "language": "python",
     "metadata": {},
     "outputs": []
    },
    {
     "cell_type": "markdown",
     "metadata": {},
     "source": [
      "Now, using [python-sh](http://amoffat.github.com/sh/), we can show how the threading macro (because of python-sh\u2019s setup) can be used like a pipe:"
     ]
    },
    {
     "cell_type": "code",
     "collapsed": false,
     "input": [
      "(import [sh [cat grep wc]])\n",
      "(-> (cat \"/usr/share/dict/words\") (grep \"-E\" \"^hy\") (wc \"-l\"))"
     ],
     "language": "python",
     "metadata": {},
     "outputs": []
    },
    {
     "cell_type": "markdown",
     "metadata": {},
     "source": [
      "Which, of course, expands out to:"
     ]
    },
    {
     "cell_type": "code",
     "collapsed": false,
     "input": [
      "(wc (grep (cat \"/usr/share/dict/words\") \"-E\" \"^hy\") \"-l\")"
     ],
     "language": "python",
     "metadata": {},
     "outputs": []
    },
    {
     "cell_type": "markdown",
     "metadata": {},
     "source": [
      "Much more readable, no? Use the threading macro!"
     ]
    }
   ],
   "metadata": {}
  }
 ]
}