{
 "metadata": {
  "kernelspec": {
   "codemirror_mode": "hy",
   "display_name": "Hy",
   "language": "hy",
   "name": "hy"
  },
  "name": "",
  "signature": "sha256:7a6d88c43b04613de1cd9f351f61af756fcb3cc42ea4db2845259c65da041264"
 },
 "nbformat": 3,
 "nbformat_minor": 0,
 "worksheets": [
  {
   "cells": [
    {
     "cell_type": "markdown",
     "metadata": {},
     "source": [
      "# Widgets\n",
      "One of the best new features of the IPython Notebook is its rich [widget system](http://nbviewer.ipython.org/github/ipython/ipython/blob/master/examples/Interactive%20Widgets/Index.ipynb). `hy_kernel` can directly use all of the IPython widgets.\n",
      "> _NOTE: the IPython semantics of displaying a widget by having it be the last line of a cell doesn't work. Looking into this! In the meantime, use `IPython.display.display`!_"
     ]
    },
    {
     "cell_type": "code",
     "collapsed": false,
     "input": [
      "(import [IPython.html [widgets]]\n",
      "        [IPython.display [display]]\n",
      "        [IPython.utils [traitlets]])"
     ],
     "language": "python",
     "metadata": {},
     "outputs": [],
     "prompt_number": 1
    },
    {
     "cell_type": "markdown",
     "metadata": {},
     "source": [
      "The simplest, albeit pointless, invocation."
     ]
    },
    {
     "cell_type": "code",
     "collapsed": false,
     "input": [
      "(widgets.IntText)"
     ],
     "language": "python",
     "metadata": {},
     "outputs": [],
     "prompt_number": 2
    },
    {
     "cell_type": "markdown",
     "metadata": {},
     "source": [
      "Naming a widget."
     ]
    },
    {
     "cell_type": "code",
     "collapsed": false,
     "input": [
      "(setv x (widgets.IntText))\n",
      "(display x)"
     ],
     "language": "python",
     "metadata": {},
     "outputs": [],
     "prompt_number": 3
    },
    {
     "cell_type": "markdown",
     "metadata": {},
     "source": [
      "The binding is bidrectional."
     ]
    },
    {
     "cell_type": "code",
     "collapsed": false,
     "input": [
      "(setv x.value 1)"
     ],
     "language": "python",
     "metadata": {},
     "outputs": [
      {
       "metadata": {},
       "output_type": "pyout",
       "prompt_number": 4,
       "text": [
        "1"
       ]
      }
     ],
     "prompt_number": 4
    },
    {
     "cell_type": "markdown",
     "metadata": {},
     "source": [
      "Using `widgets.interact`, a simple GUI generator for functions."
     ]
    },
    {
     "cell_type": "code",
     "collapsed": false,
     "input": [
      "(apply widgets.interact\n",
      " [(fn [x y] (print (* x y)))]\n",
      " {\"x\" 1 \"y\" 1})"
     ],
     "language": "python",
     "metadata": {},
     "outputs": [
      {
       "output_type": "stream",
       "stream": "stdout",
       "text": [
        "1\n"
       ]
      },
      {
       "metadata": {},
       "output_type": "pyout",
       "prompt_number": 5,
       "text": [
        "<function __main__._hy_anon_fn_1>"
       ]
      }
     ],
     "prompt_number": 5
    },
    {
     "cell_type": "markdown",
     "metadata": {},
     "source": [
      "Two linked widgets."
     ]
    },
    {
     "cell_type": "code",
     "collapsed": false,
     "input": [
      "(setv x (widgets.IntSlider))\n",
      "(setv y (widgets.IntSlider))\n",
      "(traitlets.link (, x \"value\") (, y \"value\"))\n",
      "(display x y)"
     ],
     "language": "python",
     "metadata": {},
     "outputs": [],
     "prompt_number": 6
    },
    {
     "cell_type": "markdown",
     "metadata": {},
     "source": [
      "A button."
     ]
    },
    {
     "cell_type": "code",
     "collapsed": false,
     "input": [
      "(setv btn (apply widgets.Button [] {\"description\" \"Click me\"}))\n",
      "(btn.on-click (fn [btn] (setv x.value (+ x.value 10))))\n",
      "(display btn)"
     ],
     "language": "python",
     "metadata": {},
     "outputs": [],
     "prompt_number": 7
    }
   ],
   "metadata": {}
  }
 ]
}