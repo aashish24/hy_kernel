{
 "cells": [
  {
   "cell_type": "markdown",
   "metadata": {},
   "source": [
    "# Magics\n",
    "[IPython magics](http://ipython.org/ipython-doc/dev/interactive/tutorial.html) do... interesting things. Listing them is beyond the scope of this document, but here are some examples, as well as [limitations](#Limitations)."
   ]
  },
  {
   "cell_type": "markdown",
   "metadata": {},
   "source": [
    "## Cell magics"
   ]
  },
  {
   "cell_type": "markdown",
   "metadata": {},
   "source": [
    "### ...that take Python"
   ]
  },
  {
   "cell_type": "markdown",
   "metadata": {},
   "source": [
    "For example, `%%timeit` will display how long a cell takes to run, running an appropriately large number of samples."
   ]
  },
  {
   "cell_type": "code",
   "execution_count": 1,
   "metadata": {
    "collapsed": false
   },
   "outputs": [
    {
     "name": "stdout",
     "output_type": "stream",
     "text": [
      "100000000 loops, best of 3: 11.5 ns per loop\n"
     ]
    },
    {
     "name": "stderr",
     "output_type": "stream",
     "text": [
      "Magics with parameters are not supported\n",
      "If your cell magic doesn't take code, use %%%\n"
     ]
    }
   ],
   "source": [
    "%%timeit\n",
    "(+ 1 1)"
   ]
  },
  {
   "cell_type": "markdown",
   "metadata": {},
   "source": [
    "### ...that don't\n",
    "`%%html` will just jam some html out to the frontend. To indicate that it shouldn't be compiled as hy, throw in some more magic with another `%`:"
   ]
  },
  {
   "cell_type": "code",
   "execution_count": 2,
   "metadata": {
    "collapsed": false
   },
   "outputs": [
    {
     "name": "stderr",
     "output_type": "stream",
     "text": [
      "Magics with parameters are not supported\n"
     ]
    },
    {
     "data": {
      "text/html": [
       "<ul>\n",
       "    <li><input type=\"radio\" name=\"magic\" checked=\"true\"/> magic</li>\n",
       "    <li><input type=\"radio\" name=\"magic\"/> <a href=\"http://www.catb.org/jargon/html/magic-story.html\">more magic</a></li>\n",
       "</ul>"
      ],
      "text/plain": [
       "<IPython.core.display.HTML object>"
      ]
     },
     "metadata": {},
     "output_type": "display_data"
    }
   ],
   "source": [
    "%%%html\n",
    "<ul>\n",
    "    <li><input type=\"radio\" name=\"magic\" checked=\"true\"/> magic</li>\n",
    "    <li><input type=\"radio\" name=\"magic\"/> <a href=\"http://www.catb.org/jargon/html/magic-story.html\">more magic</a></li>\n",
    "</ul>"
   ]
  },
  {
   "cell_type": "markdown",
   "metadata": {},
   "source": [
    "## Line Magics"
   ]
  },
  {
   "cell_type": "markdown",
   "metadata": {},
   "source": [
    "`!` will run a shell command, and show the output."
   ]
  },
  {
   "cell_type": "code",
   "execution_count": 3,
   "metadata": {
    "collapsed": false
   },
   "outputs": [
    {
     "name": "stdout",
     "output_type": "stream",
     "text": [
      "Automation.ipynb  Tutorial.ipynb   Untitled.ipynb\r\n",
      "Magics.ipynb\t  Untitled1.ipynb  Widgets.ipynb\r\n"
     ]
    },
    {
     "name": "stderr",
     "output_type": "stream",
     "text": [
      "Line magics inside expressions or with args probably won't work\n"
     ]
    }
   ],
   "source": [
    "!ls"
   ]
  },
  {
   "cell_type": "markdown",
   "metadata": {},
   "source": [
    "## Limitations\n",
    "Magic arguments aren't supported yet. This means a lot of great stuff won't work, `%%file`, `%%run`."
   ]
  },
  {
   "cell_type": "code",
   "execution_count": 4,
   "metadata": {
    "collapsed": false
   },
   "outputs": [
    {
     "ename": "NameError",
     "evalue": "name 'is_print' is not defined",
     "output_type": "error",
     "traceback": [
      "\u001b[1;31m---------------------------------------------------------------------------\u001b[0m",
      "\u001b[1;31mNameError\u001b[0m                                 Traceback (most recent call last)",
      "\u001b[1;32m<ipython-input-4-205c049c2135>\u001b[0m in \u001b[0;36m<module>\u001b[1;34m()\u001b[0m\n\u001b[1;32m----> 1\u001b[1;33m \u001b[0mis_print\u001b[0m\u001b[1;33m\u001b[0m\u001b[0m\n\u001b[0m",
      "\u001b[1;31mNameError\u001b[0m: name 'is_print' is not defined"
     ]
    }
   ],
   "source": [
    "print?"
   ]
  }
 ],
 "metadata": {
  "kernelspec": {
   "display_name": "Hy",
   "language": "hy",
   "name": "hy"
  },
  "language_info": {
   "codemirror_mode": {
    "name": "hy"
   },
   "mimetype": "text/x-hylang",
   "name": "hy",
   "pygments_lexer": "ipython3"
  }
 },
 "nbformat": 4,
 "nbformat_minor": 0
}
