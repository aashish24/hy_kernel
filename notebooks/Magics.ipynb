{
 "metadata": {
  "kernelspec": {
   "codemirror_mode": "hy",
   "display_name": "Hy",
   "language": "hy",
   "name": "hy"
  },
  "name": "",
  "signature": "sha256:8c84ef4978ab05a1dae5a652c2bb8a33261206ebc631d93c239cc0da20fa19a4"
 },
 "nbformat": 3,
 "nbformat_minor": 0,
 "worksheets": [
  {
   "cells": [
    {
     "cell_type": "markdown",
     "metadata": {},
     "source": [
      "# Magics\n",
      "[IPython magics](http://ipython.org/ipython-doc/dev/interactive/tutorial.html) do... interesting things. Listing them is beyond the scope of this document, but here are some examples.\n",
      "\n",
      "`%%timeit` will display how long a cell takes to run, running an appropriately large number of samples."
     ]
    },
    {
     "cell_type": "code",
     "collapsed": false,
     "input": [
      "%%timeit\n",
      "(+ 1 1)"
     ],
     "language": "python",
     "metadata": {},
     "outputs": [
      {
       "output_type": "stream",
       "stream": "stdout",
       "text": [
        "The slowest run took 46.41 times longer than the fastest. This could mean that an intermediate result is being cached \n",
        "10000000 loops, best of 3: 34.3 ns per loop\n"
       ]
      }
     ],
     "prompt_number": 1
    },
    {
     "cell_type": "markdown",
     "metadata": {},
     "source": [
      "`!` will run a shell command, and show the output."
     ]
    },
    {
     "cell_type": "code",
     "collapsed": false,
     "input": [
      "!ls"
     ],
     "language": "python",
     "metadata": {},
     "outputs": [
      {
       "output_type": "stream",
       "stream": "stdout",
       "text": [
        "Magics.ipynb   \u001b[31mTutorial.ipynb\u001b[m\u001b[m Widgets.ipynb\r\n"
       ]
      }
     ],
     "prompt_number": 2
    }
   ],
   "metadata": {}
  }
 ]
}